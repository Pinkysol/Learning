{
  "nbformat": 4,
  "nbformat_minor": 0,
  "metadata": {
    "colab": {
      "provenance": [],
      "gpuType": "T4",
      "authorship_tag": "ABX9TyMRn2O8nfA7kh7YlX7eXhKH",
      "include_colab_link": true
    },
    "kernelspec": {
      "name": "python3",
      "display_name": "Python 3"
    },
    "language_info": {
      "name": "python"
    },
    "accelerator": "GPU"
  },
  "cells": [
    {
      "cell_type": "markdown",
      "metadata": {
        "id": "view-in-github",
        "colab_type": "text"
      },
      "source": [
        "<a href=\"https://colab.research.google.com/github/Pinkysol/Learning/blob/main/FAST_API_MNIST_REQUEST.ipynb\" target=\"_parent\"><img src=\"https://colab.research.google.com/assets/colab-badge.svg\" alt=\"Open In Colab\"/></a>"
      ]
    },
    {
      "cell_type": "markdown",
      "source": [
        "В домашней работе необходимо с помощью **FastAPI** реализовать **REST API**:\n",
        "\n",
        "1. На 3 балла. Твой **REST API** - это список покупок и содержит поля: название товара, группа товара (например, электроника или продовольствие), цена, единица измерения, количество. Также необходимо реализовать метод, который возвращает список - расходы по каждой группе товаров и сумму всех покупок. Также необходимо с помощью библиотеки *requests* продемонстрировать запросами к **REST API**, как работает ваш веб-сервис. Это задание можно сравнить с \"покрытием тестами\" вашего API. Нечто похожее делают тестировщики в ИТ-компаниях. Вам необходимо покрыть запросами все методы, которые вы реализуете на веб-сервере.\n",
        "2. **На 4 балла**. Вам необходимо сделать красивую документацию для твоего **REST API** с подробным описанием. Для этого тебе придется обратиться к документации:\n",
        "  \n",
        "  https://fastapi.tiangolo.com/ru/tutorial/metadata/\n",
        "  \n",
        "  https://fastapi.tiangolo.com/ru/tutorial/path-operation-configuration/#response-description\n",
        "\n",
        "3. **На 5 баллов**. Творческое задание. **REST API** можно использовать для взаимодействия с вашей моделью нейронной сети. Вы уже знаете, что можно обучить модель, а лучший результат выгрузить для дальнейшего использования. Для получения 5 баллов необходимо обучить свою модель, загрузить ее в **Colab**. Задача может быть любой: регрессии, классификации, входными данными могут быть картинки или текстовые данные. С помощью **REST API** обеспечьте взаимодействие с моделью. Это полностью творческое задание!"
      ],
      "metadata": {
        "id": "H2-Kou1pXOTm"
      }
    },
    {
      "cell_type": "code",
      "source": [
        "# Импортируем фреймворк Keras\n",
        "import keras\n",
        "from keras.datasets import mnist\n",
        "# Библиотека AutoML autokeras\n",
        "import autokeras as ak\n",
        "# Утилита для расщепления выборки\n",
        "from sklearn.model_selection import train_test_split\n",
        "\n",
        "(x_train, y_train), (X_test, y_test) = mnist.load_data()\n",
        "X_train, X_val, y_train, y_val = train_test_split(x_train,\n",
        "  y_train, test_size=0.2, stratify=y_train, random_state=42)\n",
        "\n",
        "clf = ak.ImageClassifier(overwrite=True, max_trials=1)\n",
        "result_training = clf.fit(X_train, y_train, epochs = 1, validation_data = (X_val, y_val))\n",
        "model = clf.export_model()\n",
        "model.save(\"model_autokeras.keras\")"
      ],
      "metadata": {
        "colab": {
          "base_uri": "https://localhost:8080/"
        },
        "id": "HeUwHxiEXlE1",
        "outputId": "04506adc-e574-4a10-8cdb-a753756e21b6"
      },
      "execution_count": 21,
      "outputs": [
        {
          "output_type": "stream",
          "name": "stdout",
          "text": [
            "Trial 1 Complete [00h 00m 08s]\n",
            "val_loss: 0.05802246183156967\n",
            "\n",
            "Best val_loss So Far: 0.05802246183156967\n",
            "Total elapsed time: 00h 00m 08s\n",
            "\u001b[1m1500/1500\u001b[0m \u001b[32m━━━━━━━━━━━━━━━━━━━━\u001b[0m\u001b[37m\u001b[0m \u001b[1m6s\u001b[0m 3ms/step - accuracy: 0.8887 - loss: 0.3536 - val_accuracy: 0.9815 - val_loss: 0.0654\n"
          ]
        },
        {
          "output_type": "stream",
          "name": "stderr",
          "text": [
            "/home/dimas/miniconda3/envs/tensor/lib/python3.11/site-packages/keras/src/saving/saving_lib.py:757: UserWarning: Skipping variable loading for optimizer 'adam', because it has 2 variables whereas the saved optimizer has 14 variables. \n",
            "  saveable.load_own_variables(weights_store.get(inner_path))\n"
          ]
        }
      ]
    },
    {
      "cell_type": "code",
      "source": [
        "%%writefile main.py\n",
        "import io\n",
        "import pickle\n",
        "import numpy as np\n",
        "import PIL.Image\n",
        "import PIL.ImageOps\n",
        "from keras.models import load_model\n",
        "from fastapi import FastAPI, File, UploadFile\n",
        "from fastapi.middleware.cors import CORSMiddleware\n",
        "import autokeras as ak\n",
        "\n",
        "app = FastAPI()\n",
        "\n",
        "model = load_model(\n",
        "    \"model_autokeras.keras\", custom_objects=ak.CUSTOM_OBJECTS\n",
        ")\n",
        "\n",
        "@app.post(\"/number_predict\")\n",
        "async def predict_image(file: UploadFile = File(...)):\n",
        "    contents = await file.read()\n",
        "\n",
        "    pil_image = PIL.Image.open(io.BytesIO(contents))\n",
        "\n",
        "    pil_image = pil_image.resize((28, 28), PIL.Image.Resampling.LANCZOS)\n",
        "\n",
        "    img_array = np.array(pil_image)\n",
        "    img_array = np.expand_dims(img_array, axis=0)\n",
        "    prediction = model.predict(img_array)\n",
        "    predicted_value = prediction[0].argmax(axis=0)\n",
        "    return {\"prediction\": str(predicted_value)}"
      ],
      "metadata": {
        "id": "CqmMOTOCJjto",
        "colab": {
          "base_uri": "https://localhost:8080/"
        },
        "outputId": "6b875e1e-a1b0-4756-ced2-32f44bccbf66"
      },
      "execution_count": 45,
      "outputs": [
        {
          "output_type": "stream",
          "name": "stdout",
          "text": [
            "Overwriting main.py\n"
          ]
        }
      ]
    },
    {
      "cell_type": "code",
      "source": [
        "import requests\n",
        "import io\n",
        "from keras.models import load_model\n",
        "\n",
        "with open(\"img_2.jpg\", 'rb') as f:\n",
        "    img_data = f.read()\n",
        "\n",
        "files = {'file': img_data}\n",
        "r = requests.post('http://127.0.0.1:8000/number_predict', files=files)\n",
        "\n",
        "print(r)\n",
        "number = r.json()\n",
        "print(number)"
      ],
      "metadata": {
        "id": "j7bZdSuqNWDX",
        "colab": {
          "base_uri": "https://localhost:8080/"
        },
        "outputId": "2fd151f9-7339-45f7-f971-f1454a008faa"
      },
      "execution_count": 53,
      "outputs": [
        {
          "output_type": "stream",
          "name": "stdout",
          "text": [
            "<Response [200]>\n",
            "{'prediction': '0'}\n"
          ]
        }
      ]
    }
  ]
}